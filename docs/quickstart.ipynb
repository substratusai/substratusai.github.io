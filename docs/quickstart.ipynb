{
 "cells": [
  {
   "cell_type": "markdown",
   "id": "708b18ae-c2ed-4299-9ddd-8375428521fb",
   "metadata": {},
   "source": [
    "---\n",
    "sidebar_position: 2\n",
    "---\n",
    "\n",
    "# Quickstart\n",
    "\n",
    "<!-- THE MARKDOWN (.md) FILE IS GENERATED FROM THE NOTEBOOK (.ipynb) FILE -->\n",
    "\n",
    "In this quickstart guide, you will install Substratus into a Google Cloud project. You will then explore how Substratus can be used to build and deploy Open Source LLMs.\n",
    "\n",
    "NOTE: Support for AWS ([GitHub Issue #12](https://github.com/substratusai/substratus/issues/12)) and Azure ([GitHub Issue #63](https://github.com/substratusai/substratus/issues/63)) is planned. Give those issues a thumbs up if you would like to see them prioritized."
   ]
  },
  {
   "cell_type": "markdown",
   "id": "3d69245f-c46c-4a2a-9ea3-8762eac462e8",
   "metadata": {},
   "source": [
    "## Prerequisites\n",
    "\n",
    "You with need a [Google Cloud Platform](https://console.cloud.google.com/) project with billing enabled.\n",
    "\n",
    "Make sure you have the required tools."
   ]
  },
  {
   "cell_type": "code",
   "execution_count": null,
   "id": "a06edd84-ac15-4be5-b8ab-676bbe4d025a",
   "metadata": {
    "tags": [
     "remove_output"
    ]
   },
   "outputs": [],
   "source": [
    "!docker version || open 'https://docs.docker.com/get-docker/'"
   ]
  },
  {
   "cell_type": "code",
   "execution_count": null,
   "id": "a0931d4f-8dd3-4fef-a9ca-1350691d6b4b",
   "metadata": {
    "tags": [
     "remove_output"
    ]
   },
   "outputs": [],
   "source": [
    "!gcloud version || open 'https://cloud.google.com/sdk/docs/install'"
   ]
  },
  {
   "cell_type": "code",
   "execution_count": null,
   "id": "89b6d646-9afe-43e2-abf9-22615b4fcd4e",
   "metadata": {
    "tags": [
     "remove_output"
    ]
   },
   "outputs": [],
   "source": [
    "!kubectl version --client || open 'https://kubernetes.io/docs/tasks/tools/#kubectl'"
   ]
  },
  {
   "cell_type": "markdown",
   "id": "c58c96c7-b086-49ec-9963-e8ad6ff01d62",
   "metadata": {},
   "source": [
    "## Install Substratus\n",
    "\n",
    "Create a substratus GKE cluster along with supporting infrastructure (buckets, service accounts, image registries)."
   ]
  },
  {
   "cell_type": "code",
   "execution_count": null,
   "id": "0adb76f6-3f5a-47fb-b89b-b66dbfed6960",
   "metadata": {
    "tags": [
     "remove_output"
    ]
   },
   "outputs": [],
   "source": [
    "!docker run -it \\\n",
    "  -v $HOME/.kube:/root/.kube \\\n",
    "  -e PROJECT=$(gcloud config get project) \\\n",
    "  -e TOKEN=$(gcloud auth print-access-token) \\\n",
    "  substratusai/installer gcp-up.sh"
   ]
  },
  {
   "cell_type": "markdown",
   "id": "54555fb1-8bdf-47b0-b97c-177b3db4ddad",
   "metadata": {},
   "source": [
    "Your kubectl command should now be pointing at the substratus cluster."
   ]
  },
  {
   "cell_type": "markdown",
   "id": "e06320d8-daf9-4199-bf74-ac24129ebeda",
   "metadata": {},
   "source": [
    "## Build and Deploy an Open Source Model\n",
    "\n",
    "To keep things quick, a small model (125 million parameters) will be used."
   ]
  },
  {
   "cell_type": "code",
   "execution_count": null,
   "id": "55c63cdc-7d02-42b7-b2aa-69d2f0116877",
   "metadata": {},
   "outputs": [],
   "source": [
    "!kubectl apply -f https://raw.githubusercontent.com/substratusai/substratus/main/examples/facebook-opt-125m/model.yaml"
   ]
  },
  {
   "cell_type": "markdown",
   "id": "f6288b3b-112b-4a2f-afad-cd1728263d3c",
   "metadata": {},
   "source": [
    "A container build process is now running in the Substratus cluster. You can declare that you would like the built model to be deployed by applying a ModelServer manifest."
   ]
  },
  {
   "cell_type": "code",
   "execution_count": null,
   "id": "bb39434c-caf2-4c63-b79f-74bc122a6f33",
   "metadata": {},
   "outputs": [],
   "source": [
    "!kubectl apply -f https://raw.githubusercontent.com/substratusai/substratus/main/examples/facebook-opt-125m/server.yaml"
   ]
  },
  {
   "cell_type": "markdown",
   "id": "f57db76a-ad3d-42c4-8612-dbab31b8d9c6",
   "metadata": {},
   "source": [
    "You can check on the progress of both processes using a single command."
   ]
  },
  {
   "cell_type": "code",
   "execution_count": null,
   "id": "9dee9440-b029-419e-88a8-8c4c2b4d957e",
   "metadata": {},
   "outputs": [],
   "source": [
    "!kubectl get ai"
   ]
  },
  {
   "cell_type": "markdown",
   "id": "f8408d23-92c6-435d-a510-a5e0bae0ed01",
   "metadata": {},
   "source": [
    "When the ModelServer is reporting a `Ready` status, proceed to the next section to test it out."
   ]
  },
  {
   "cell_type": "markdown",
   "id": "239ef216-9318-4679-83f0-98fcbed2a32c",
   "metadata": {
    "tags": []
   },
   "source": [
    "## Testing out the ModelServer\n",
    "\n",
    "The way every company chooses to expose a model will be different. In most cases models are integrated into other business applications and are rarely exposed directly to the internet. Substratus will only serve the model within the Kubernetes cluster (with a Kubernetes [Service](https://kubernetes.io/docs/concepts/services-networking/service/) object). The choice of how to expose the model to your users is up to you.\n",
    "\n",
    "In order to access the model for exploratory purposes, forward ports from within the cluster to your local machine."
   ]
  },
  {
   "cell_type": "code",
   "execution_count": null,
   "id": "ef93bee3-0c29-4435-a419-b7a21cf77ec7",
   "metadata": {},
   "outputs": [],
   "source": [
    "!kubectl port-forward service/facebook-opt-125m-modelserver 8080:8080"
   ]
  },
  {
   "cell_type": "markdown",
   "id": "8bca86a6-8550-4884-a7fc-83b545ffe278",
   "metadata": {},
   "source": [
    "The packaged model server ships with an API (for application integration) and a GUI interface (for debugging). You can now open up your browser at [http://localhost:8080](http://localhost:8080) and talk to your model!"
   ]
  },
  {
   "cell_type": "markdown",
   "id": "95a9966d-5679-4208-9b28-0323aa80cd79",
   "metadata": {},
   "source": [
    "If you are interesting in continuing your journey through Substratus, take a look at the [Guided Walkthrough](./category/walkthrough)."
   ]
  },
  {
   "cell_type": "markdown",
   "id": "cdb508e5-a7e9-4d94-a4d6-f3b4b2cf4e3f",
   "metadata": {},
   "source": [
    "## Cleanup\n",
    "\n",
    "The process that is serving the model can be stopped by simply deleting the same ModelServer object that was applied before."
   ]
  },
  {
   "cell_type": "code",
   "execution_count": null,
   "id": "d104d88e-5fa0-4cb6-87b0-869eb635ff16",
   "metadata": {},
   "outputs": [],
   "source": [
    "!kubectl delete -f https://raw.githubusercontent.com/substratusai/substratus/main/examples/facebook-opt-125m/server.yaml"
   ]
  },
  {
   "cell_type": "markdown",
   "id": "c6b78cea-8d41-4319-8769-2fa3ee0e02ff",
   "metadata": {},
   "source": [
    "If you want to uninstall the entire Substratus system and all infrastructure, you can run the `gcp-down.sh` script from the installation container."
   ]
  },
  {
   "cell_type": "code",
   "execution_count": null,
   "id": "6213000e-ad3e-4ed9-9a10-fd90c6e760fc",
   "metadata": {},
   "outputs": [],
   "source": [
    "!docker run -it \\\n",
    "  -e PROJECT=$(gcloud config get project) \\\n",
    "  -e TOKEN=$(gcloud auth print-access-token) \\\n",
    "  substratusai/installer gcp-down.sh"
   ]
  },
  {
   "cell_type": "markdown",
   "id": "a21c7867-4e73-429c-a8d8-3c0792eb52b3",
   "metadata": {},
   "source": [
    "To learn more about how Substratus works, check out the [Architecture](./architecture) page."
   ]
  }
 ],
 "metadata": {
  "kernelspec": {
   "display_name": "Python 3 (ipykernel)",
   "language": "python",
   "name": "python3"
  },
  "language_info": {
   "codemirror_mode": {
    "name": "ipython",
    "version": 3
   },
   "file_extension": ".py",
   "mimetype": "text/x-python",
   "name": "python",
   "nbconvert_exporter": "python",
   "pygments_lexer": "ipython3",
   "version": "3.9.15"
  }
 },
 "nbformat": 4,
 "nbformat_minor": 5
}
