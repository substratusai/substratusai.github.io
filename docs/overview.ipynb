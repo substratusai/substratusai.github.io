{
 "cells": [
  {
   "attachments": {},
   "cell_type": "markdown",
   "id": "fa71c349-6c09-46cb-a3f2-8b0dcb67a0be",
   "metadata": {},
   "source": [
    "---\n",
    "sidebar_position: 3\n",
    "---\n",
    "\n",
    "# Overview\n",
    "\n",
    "<!-- THE MARKDOWN (.md) FILE IS GENERATED FROM THE NOTEBOOK (.ipynb) FILE -->\n",
    "\n",
    "Substratus extends the Kubernetes control plane to orchestrate the full lifecycle\n",
    "of machine learning models. It does this by introducing new custom resources\n",
    "into the Kubernetes API: Model, Server, Dataset, Notebook. A set of controllers,\n",
    "bundled together into a single Deployment respond to these new resource types.\n",
    "Substratus can be described as a\n",
    "[Kubernetes Operator](https://kubernetes.io/docs/concepts/extend-kubernetes/operator/)\n",
    "as it automates the orchestration of common ML tasks: packaging models local to\n",
    "the infrastructure, packaging ML jobs into containers, pulling and transforming\n",
    "datasets, running training jobs, managing dynamic notebook development environments.\n",
    "\n",
    "<img src=\"/img/diagrams/high-level-architecture.excalidraw.png\"></img>"
   ]
  },
  {
   "attachments": {},
   "cell_type": "markdown",
   "id": "7e765ed5",
   "metadata": {},
   "source": [
    "## Models\n",
    "\n",
    "The Model resource is at the center of Substratus. A Model object represents an instance of a ML model (source code bundled together with weights and biases). A Model object can describe various sources for a model: Git (Substratus will clone the repo and build a container containing the model), or another Model coupled with a training Dataset (Substratus will run a training Job on the base Model with the provided data, and build a new container image containing the trained model). All other Substratus resources exist to facilitate the progression of Model objects.\n",
    "\n",
    "<img src=\"/img/diagrams/model-architecture.excalidraw.png\"></img>\n",
    "\n"
   ]
  },
  {
   "attachments": {},
   "cell_type": "markdown",
   "id": "4b532e3e",
   "metadata": {},
   "source": [
    "## Servers\n",
    "\n",
    "The Server resource is responsible for exposing the a Model with a HTTP API for inference.\n",
    "\n",
    ":::note\n",
    "\n",
    "Give [GitHub issue #66](https://github.com/substratusai/substratus/issues/66) a thumbs up if support for Embeddings is important to you.\n",
    "\n",
    ":::"
   ]
  },
  {
   "attachments": {},
   "cell_type": "markdown",
   "id": "38a52afd",
   "metadata": {},
   "source": [
    "## Datasets\n",
    "\n",
    "The Dataset resource facilitates the importing and transformation of public and private data sources. A Dataset object points to source code that will be used for data importing. Substratus will containerize this code and run it in the cluster, storing the resulting data in a bucket. When referenced from a Model object, Substratus will mount the data into the Model training Job.\n",
    "\n",
    "<img src=\"/img/diagrams/dataset-architecture.excalidraw.png\"></img>"
   ]
  },
  {
   "attachments": {},
   "cell_type": "markdown",
   "id": "3b837477",
   "metadata": {},
   "source": [
    "## Notebooks\n",
    "\n",
    "The Notebook resource facilitates the development of ML source code. Unlike regular applications which can typically be developed on modest laptops, developing a ML model typically requires high performance compute (i.e. GPUs with lots of memory). A Notebook object represents an instance of a Jupyter Notebook environment that is running on beefy hardware within a Kubernetes cluster. Substratus tooling, such as the `kubectl open notebook` plugin, allows developers to open these notebooks on their local machines.\n",
    "\n",
    "<img src=\"/img/diagrams/notebook-architecture.excalidraw.png\"></img>\n",
    "\n",
    "Because Substratus relies on Kubernetes port-forwarding, administrators do not need to manage TLS certificates, networking ingress paths, and bespoke firewall rules. Substratus users just need access to the Kubernetes API server (they need to be able to download Kubernetes credentials). Most companies already have a method in place of distributing these kubeconfig files.\n",
    "\n",
    "Read more about [what makes Substratus Notebooks unique](./notebooks)."
   ]
  },
  {
   "attachments": {},
   "cell_type": "markdown",
   "id": "8f33150e",
   "metadata": {},
   "source": []
  }
 ],
 "metadata": {
  "kernelspec": {
   "display_name": "Python 3 (ipykernel)",
   "language": "python",
   "name": "python3"
  },
  "language_info": {
   "codemirror_mode": {
    "name": "ipython",
    "version": 3
   },
   "file_extension": ".py",
   "mimetype": "text/x-python",
   "name": "python",
   "nbconvert_exporter": "python",
   "pygments_lexer": "ipython3",
   "version": "3.9.15"
  }
 },
 "nbformat": 4,
 "nbformat_minor": 5
}
