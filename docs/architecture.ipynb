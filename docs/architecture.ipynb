{
 "cells": [
  {
   "cell_type": "markdown",
   "id": "fa71c349-6c09-46cb-a3f2-8b0dcb67a0be",
   "metadata": {},
   "source": [
    "---\n",
    "sidebar_position: 4\n",
    "---\n",
    "\n",
    "# Architecture\n",
    "\n",
    "<!-- THE MARKDOWN (.md) FILE IS GENERATED FROM THE NOTEBOOK (.ipynb) FILE -->\n",
    "\n",
    "TODO"
   ]
  }
 ],
 "metadata": {
  "kernelspec": {
   "display_name": "Python 3 (ipykernel)",
   "language": "python",
   "name": "python3"
  },
  "language_info": {
   "codemirror_mode": {
    "name": "ipython",
    "version": 3
   },
   "file_extension": ".py",
   "mimetype": "text/x-python",
   "name": "python",
   "nbconvert_exporter": "python",
   "pygments_lexer": "ipython3",
   "version": "3.9.15"
  }
 },
 "nbformat": 4,
 "nbformat_minor": 5
}
