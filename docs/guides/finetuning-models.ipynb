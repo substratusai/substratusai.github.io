{
  "cells": [
    {
      "cell_type": "markdown",
      "id": "5ce01359-f26f-4288-a265-6aa1ddef4858",
      "metadata": {},
      "source": [
        "---\n",
        "sidebar_position: 4\n",
        "---\n",
        "\n",
        "# Finetuning Models\n",
        "\n",
        "<!-- THE MARKDOWN (.md) FILE IS GENERATED FROM THE NOTEBOOK (.ipynb) FILE -->\n",
        "The large pretrained base models are already very helpful, but\n",
        "with finetuning small and large language models can be made even more helpful.\n",
        "\n",
        "Finetuning is especially helpful for use cases that require private internal\n",
        "data or for use cases that require domain specific knowledge that wasn't\n",
        "available on the internet.\n",
        "\n",
        "In Substratus the Model resource allows you to specify a `baseModel` and\n",
        "a `trainingDataset` to create new finetuned models.\n",
        "\n",
        "To summarize: \n",
        "`finetunedModel = training_image(baseModel, trainingDataset)`. \n",
        "\n",
        "\n",
        "The following Model resource would create a finetuned model:\n",
        "```yaml\n",
        "apiVersion: substratus.ai/v1\n",
        "kind: Model\n",
        "metadata:\n",
        "  name: falcon-7b-instruct-k8s\n",
        "spec:\n",
        "  image:\n",
        "    name: substratusai/model-trainer-huggingface\n",
        "  baseModel:\n",
        "    name: falcon-7b-instruct\n",
        "  trainingDataset:\n",
        "    name: k8s-instructions\n",
        "  params:\n",
        "    epochs: 1\n",
        "  resources:\n",
        "    gpu:\n",
        "      count: 4\n",
        "      type: nvidia-l4\n",
        "```\n",
        "\n",
        "Under `image.name` you see model-trainer-huggingface`, which is provided\n",
        "by Substratus  and can be used to finetune language models that were loaded from HuggingFace.\n",
        "The image uses the HuggingFace transformers library for training.\n",
        "The source for the trainer is available here:\n",
        "https://github.com/substratusai/model-trainer-huggingface\n",
        "\n",
        "The trainer image will load the base model from a predefined path and use PEFT method for finetuning. Once training is done, the training image saves the model to a predefined path.\n",
        "By using a predefined paths the model automatically loads and stores from cloud storage buckets.\n"
      ]
    },
    {
      "cell_type": "markdown",
      "id": "1d6e1505",
      "metadata": {},
      "source": [
        "### Prerequisites\n",
        "- Installed Substratus following the [installation guide](../installation/installation.md)\n",
        "- You have loaded the falcon-7b-instruct model by following [quickstart guide](../quickstart/gcp.md)\n",
        "- You have loaded the k8s-instruction Dataset by following the [loading datasets guide](./loading-datasets.md)\n",
        "\n",
        "Run the commands below to ensure the you satisfy all the prerequisites:"
      ]
    },
    {
      "cell_type": "code",
      "execution_count": null,
      "id": "6e540705",
      "metadata": {
        "vscode": {
          "languageId": "plaintext"
        }
      },
      "outputs": [],
      "source": [
        "! kubectl apply -f https://raw.githubusercontent.com/substratusai/substratus/main/examples/falcon-7b-instruct/base-model.yaml\n",
        "! kubectl apply -f https://raw.githubusercontent.com/substratusai/substratus/main/examples/datasets/k8s-instructions.yaml"
      ]
    },
    {
      "cell_type": "markdown",
      "id": "65e7cbab",
      "metadata": {},
      "source": [
        "Verify that the falcon-7b-instruct model and k8s-instruct Dataset are ready (this should take ~5 minutes):"
      ]
    },
    {
      "cell_type": "code",
      "execution_count": null,
      "id": "1a376596",
      "metadata": {
        "vscode": {
          "languageId": "plaintext"
        }
      },
      "outputs": [],
      "source": [
        "! kubectl describe dataset k8s-instruct"
      ]
    },
    {
      "cell_type": "markdown",
      "id": "957f3aa7",
      "metadata": {},
      "source": [
        "## Finetuning falcon-7b-instruct\n",
        "\n",
        "Create the fine tuned model:"
      ]
    },
    {
      "cell_type": "code",
      "execution_count": null,
      "id": "19221813",
      "metadata": {
        "vscode": {
          "languageId": "plaintext"
        }
      },
      "outputs": [],
      "source": [
        "! kubectl apply -f https://raw.githubusercontent.com/substratusai/substratus/main/examples/falcon-7b-instruct/finetuned-model.yaml"
      ]
    },
    {
      "cell_type": "markdown",
      "id": "be2934a3",
      "metadata": {},
      "source": [
        "The training takes about 20 to 30 minutes. You can watch the progress by running:"
      ]
    },
    {
      "cell_type": "code",
      "execution_count": null,
      "id": "ac2b4e36",
      "metadata": {
        "vscode": {
          "languageId": "plaintext"
        }
      },
      "outputs": [],
      "source": [
        "! kubectl logs jobs/falcon-7b-instruct-k8s-modeller"
      ]
    },
    {
      "cell_type": "markdown",
      "id": "8edbc721",
      "metadata": {},
      "source": [
        "Wait until the falcon-7b-instruct-k8s-modeller job has finished. Once finished you can create\n",
        "a Server resource.\n",
        "\n",
        "## Serving the finetuned model\n",
        "\n",
        "Create a Server to serve the falcon-7b-instruct-k8s finetuned model:"
      ]
    },
    {
      "cell_type": "code",
      "execution_count": null,
      "id": "4e69eba3",
      "metadata": {
        "vscode": {
          "languageId": "plaintext"
        }
      },
      "outputs": [],
      "source": [
        "! kubectl apply -f https://raw.githubusercontent.com/substratusai/substratus/main/examples/falcon-7b-instruct/finetuned-server.yaml"
      ]
    },
    {
      "cell_type": "markdown",
      "id": "b89933e8",
      "metadata": {},
      "source": [
        "Verify that the Server is ready by running:"
      ]
    },
    {
      "cell_type": "code",
      "execution_count": null,
      "id": "fcb8b036",
      "metadata": {
        "vscode": {
          "languageId": "plaintext"
        }
      },
      "outputs": [],
      "source": [
        "! kubectl describe server falcon-7b-instruct-k8s"
      ]
    },
    {
      "cell_type": "markdown",
      "id": "ea121808",
      "metadata": {},
      "source": [
        "By default Substratus creates a K8s Service to expose the Server, however this Service is of type ClusterIP, which means you can not directly access it over the internet. So let's use K8s Port Forwarding to access the server.\n",
        "\n",
        "Run the following command to forward your local 8080 port to the Server port 8080:"
      ]
    },
    {
      "cell_type": "code",
      "execution_count": null,
      "id": "6f6c117d",
      "metadata": {
        "vscode": {
          "languageId": "plaintext"
        }
      },
      "outputs": [],
      "source": [
        "! kubectl port-forward service/falcon-7b-instruct-server 8080:8080"
      ]
    },
    {
      "cell_type": "markdown",
      "id": "f8583d5c",
      "metadata": {},
      "source": [
        "You should now be able to access the web interface of the Server by going to\n",
        "[http://localhost:8080](http://localhost:8080)\n",
        "\n",
        "You have now deployed falcon-7b-instruct model that was fine tuned to write K8s YAML files. Try it out by sending the following prompt:\n",
        "```\n",
        "Below is an instruction that describes a task. Write a response that appropriately completes the request.\n",
        "\n",
        "### Instruction:\n",
        "Write YAML that defines a Kubernetes Deployment named \"iis\" with 3 replicas \n",
        "\n",
        "### Response:\n",
        "```"
      ]
    }
  ],
  "metadata": {
    "kernelspec": {
      "display_name": "Python 3 (ipykernel)",
      "language": "python",
      "name": "python3"
    },
    "language_info": {
      "codemirror_mode": {
        "name": "ipython",
        "version": 3
      },
      "file_extension": ".py",
      "mimetype": "text/x-python",
      "name": "python",
      "nbconvert_exporter": "python",
      "pygments_lexer": "ipython3",
      "version": "3.9.15"
    }
  },
  "nbformat": 4,
  "nbformat_minor": 5
}
