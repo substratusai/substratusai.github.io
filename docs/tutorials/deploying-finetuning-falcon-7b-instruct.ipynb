{
 "cells": [
  {
   "cell_type": "markdown",
   "id": "5ce01359-f26f-4288-a265-6aa1ddef4858",
   "metadata": {},
   "source": [
    "---\n",
    "sidebar_position: 2\n",
    "---\n",
    "\n",
    "# Deploying and Finetuning Falcon-7b-instruct\n",
    "\n",
    "<!-- THE MARKDOWN (.md) FILE IS GENERATED FROM THE NOTEBOOK (.ipynb) FILE -->\n",
    "\n",
    "In this tutorial, you will learn how to deploy and finetune the Falcon-7b-instruct model\n",
    "with a custom dataset. The tutorial will cover 3 main sections:\n",
    "\n",
    "1. Loading the Falcon-7b-instruct base model\n",
    "2. Creating a server to serve the model\n",
    "3. Loading a dataset and finetuning the base model\n",
    "\n",
    "Prereq:\n",
    "- Install Substratus following the [installation guide](../installation.md)\n",
    "\n",
    "\n",
    "## Loading the falcon-7b-instruct model into Substratus\n",
    "Create a Model resource to load the model from HuggingFace into Substratus."
   ]
  },
  {
   "cell_type": "markdown",
   "id": "b3fa82ab",
   "metadata": {},
   "source": [
    "Create the model by running:"
   ]
  },
  {
   "cell_type": "code",
   "execution_count": null,
   "id": "512a3d5e",
   "metadata": {},
   "outputs": [],
   "source": [
    "! kubectl apply -f https://raw.githubusercontent.com/substratusai/substratus/main/examples/falcon-7b-instruct/base-model.yaml"
   ]
  },
  {
   "cell_type": "markdown",
   "id": "6e06b862",
   "metadata": {},
   "source": [
    "Once you create the model, it will create a K8s job to load the HuggingFace model\n",
    "into Substratus. This job will use the container image defined in the Model resource to\n",
    "load the HuggingFace model into Cloud Storage. For example, if you're using GCP,\n",
    "then it would load the model into a GCS bucket."
   ]
  },
  {
   "cell_type": "markdown",
   "id": "94e21f5a",
   "metadata": {},
   "source": [
    "Let's take a look at the Model resource that you just applied:"
   ]
  },
  {
   "cell_type": "code",
   "execution_count": 7,
   "id": "14cda6a8",
   "metadata": {},
   "outputs": [
    {
     "name": "stdout",
     "output_type": "stream",
     "text": [
      "apiVersion: substratus.ai/v1\n",
      "kind: Model\n",
      "metadata:\n",
      "  name: falcon-7b-instruct\n",
      "spec:\n",
      "  image:\n",
      "    name: substratusai/model-loader-huggingface\n",
      "  params:\n",
      "    name: tiiuae/falcon-7b-instruct\n"
     ]
    }
   ],
   "source": [
    "! curl https://raw.githubusercontent.com/substratusai/substratus/main/examples/falcon-7b-instruct/base-model.yaml"
   ]
  },
  {
   "cell_type": "markdown",
   "id": "57b6b525",
   "metadata": {},
   "source": [
    "You can look at the logs of the loader job by running:"
   ]
  },
  {
   "cell_type": "code",
   "execution_count": 8,
   "id": "5a3b3a09",
   "metadata": {},
   "outputs": [
    {
     "name": "stdout",
     "output_type": "stream",
     "text": [
      "[NbConvertApp] content: {'execution_state': 'busy'}\n",
      "[NbConvertApp] msg_type: execute_input\n",
      "[NbConvertApp] content: {'code': '! ls -lash /model/saved', 'execution_count': 5}\n",
      "[NbConvertApp] msg_type: stream\n",
      "[NbConvertApp] content: {'name': 'stdout', 'text': 'total 14G\\r\\n1.5K -rw-r--r-- 1 root 3003 1.5K Jul 15 02:46 .gitattributes\\r\\n 10K -rw-r--r-- 1 root 3003 9.6K Jul 15 02:46 README.md\\r\\n1.0K -rw-r--r-- 1 root 3003  667 Jul 15 02:46 config.json\\r\\n3.0K -rw-r--r-- 1 root 3003 2.6K Jul 15 02:46 configuration_RW.py\\r\\n 512 -rw-r--r-- 1 root 3003  111 Jul 15 02:46 generation_config.json\\r\\n1.5K -rw-r--r-- 1 root 3003 1.2K Jul 15 02:46 handler.py\\r\\n 47K -rw-r--r-- 1 root 3003  47K Jul 15 02:46 modelling_RW.py\\r\\n9.3G -rw-r--r-- 1 root 3003 9.3G Jul 15 02:48 pytorch_model-00001-of-00002.bin\\r\\n4.2G -rw-r--r-- 1 root 3003 4.2G Jul 15 02:47 pytorch_model-00002-of-00002.bin\\r\\n 17K -rw-r--r-- 1 root 3003  17K Jul 15 02:46 pytorch_model.bin.index.json\\r\\n 512 -rw-r--r-- 1 root 3003  281 Jul 15 02:46 special_tokens_map.json\\r\\n2.7M -rw-r--r-- 1 root 3003 2.7M Jul 15 02:46 tokenizer.json\\r\\n 512 -rw-r--r-- 1 root 3003  220 Jul 15 02:46 tokenizer_config.json\\r\\n'}\n",
      "[NbConvertApp] msg_type: status\n",
      "[NbConvertApp] content: {'execution_state': 'idle'}\n",
      "[NbConvertApp] Destroying zmq context for <jupyter_client.asynchronous.client.AsyncKernelClient object at 0x7f101990c650>\n",
      "[NbConvertApp] Applying preprocessor: coalesce_streams\n",
      "[NbConvertApp] Writing 9098 bytes to /model/logs/load.ipynb\n"
     ]
    }
   ],
   "source": [
    "! kubectl logs jobs/falcon-7b-instruct-modeller | tail -n 10"
   ]
  },
  {
   "cell_type": "markdown",
   "id": "bc9d642c",
   "metadata": {},
   "source": [
    "After about 5 minutes the job should finish and the Model resource should report the status\n",
    "to be ready. Verify by running:"
   ]
  },
  {
   "cell_type": "code",
   "execution_count": 9,
   "id": "a0f6088c",
   "metadata": {},
   "outputs": [
    {
     "name": "stdout",
     "output_type": "stream",
     "text": [
      "Name:         falcon-7b-instruct\n",
      "Namespace:    default\n",
      "Labels:       <none>\n",
      "Annotations:  <none>\n",
      "API Version:  substratus.ai/v1\n",
      "Kind:         Model\n",
      "Metadata:\n",
      "  Creation Timestamp:  2023-07-15T02:46:05Z\n",
      "  Generation:          1\n",
      "  Resource Version:    14266797\n",
      "  UID:                 077198a0-32ec-4f07-9bc3-ba3a1f1a3729\n",
      "Spec:\n",
      "  Image:\n",
      "    Name:  substratusai/model-loader-huggingface\n",
      "  Params:\n",
      "    Name:  tiiuae/falcon-7b-instruct\n",
      "Status:\n",
      "  Conditions:\n",
      "    Last Transition Time:  2023-07-15T02:51:18Z\n",
      "    Message:               \n",
      "    Observed Generation:   1\n",
      "    Reason:                JobComplete\n",
      "    Status:                True\n",
      "    Type:                  Modelled\n",
      "  Ready:                   true\n",
      "  URL:                     gs://substratus-models/077198a0-32ec-4f07-9bc3-ba3a1f1a3729/\n",
      "Events:                    <none>\n"
     ]
    }
   ],
   "source": [
    "! kubectl describe model falcon-7b-instruct"
   ]
  },
  {
   "cell_type": "markdown",
   "id": "d5d267df",
   "metadata": {},
   "source": [
    "## Serving the loaded model\n",
    "\n",
    "The Substratus Server resource lets you serve models that were loaded into Substratus.\n",
    "Substratus provides a serving image that uses Basaran to provide an OpenAI\n",
    "compatible API endpoint and also a Web UI which is compatible with most of the\n",
    "Large Language Models on HuggingFace."
   ]
  },
  {
   "cell_type": "markdown",
   "id": "dfe709a5",
   "metadata": {},
   "source": [
    "Create the Server resource by running:"
   ]
  },
  {
   "cell_type": "code",
   "execution_count": null,
   "id": "c73089bb",
   "metadata": {},
   "outputs": [],
   "source": [
    "! kubectl apply -f https://raw.githubusercontent.com/substratusai/substratus/main/examples/falcon-7b-instruct/server.yaml"
   ]
  },
  {
   "cell_type": "markdown",
   "id": "bbd70e8c",
   "metadata": {},
   "source": [
    "The following Server resource is used:\n",
    "```yaml\n",
    "apiVersion: substratus.ai/v1\n",
    "kind: Server\n",
    "metadata:\n",
    "  name: falcon-7b-instruct\n",
    "spec:\n",
    "  image:\n",
    "    name: substratusai/model-server-basaran\n",
    "  model:\n",
    "    name: falcon-7b-instruct\n",
    "  resources:\n",
    "    gpu:\n",
    "      type: nvidia-l4\n",
    "      count: 1\n",
    "```\n",
    "In the Model resource spec the following things are configured:\n",
    "1. image.name: This is the image published by Substratus that can serve models.\n",
    "2. model.name: Refers to the name of the model that was loaded earlier in this tutorial\n",
    "3. resources: These specify what kind of resources are needed to serve the model. The Falcon-7b model requires GPUs to perform decently. In this case, 1 NVidia L4 GPU is requested."
   ]
  },
  {
   "cell_type": "markdown",
   "id": "83e70ee4",
   "metadata": {},
   "source": [
    "It takes about 5 minutes to pull the container, load the model into GPU memory and being ready to serve requests. You can check if the Server is ready by running:"
   ]
  },
  {
   "cell_type": "code",
   "execution_count": 11,
   "id": "a3184e33",
   "metadata": {},
   "outputs": [
    {
     "name": "stdout",
     "output_type": "stream",
     "text": [
      "Name:         falcon-7b-instruct\n",
      "Namespace:    default\n",
      "Labels:       <none>\n",
      "Annotations:  <none>\n",
      "API Version:  substratus.ai/v1\n",
      "Kind:         Server\n",
      "Metadata:\n",
      "  Creation Timestamp:  2023-07-15T05:43:56Z\n",
      "  Generation:          1\n",
      "  Resource Version:    14364432\n",
      "  UID:                 f130adc7-9243-4a19-b195-ef8b14c8b3ac\n",
      "Spec:\n",
      "  Image:\n",
      "    Name:  substratusai/model-server-basaran\n",
      "  Model:\n",
      "    Name:  falcon-7b-instruct\n",
      "  Resources:\n",
      "    Cpu:   2\n",
      "    Disk:  10\n",
      "    Gpu:\n",
      "      Count:  1\n",
      "      Type:   nvidia-l4\n",
      "    Memory:   10\n",
      "Status:\n",
      "  Conditions:\n",
      "    Last Transition Time:  2023-07-15T05:48:32Z\n",
      "    Message:               \n",
      "    Observed Generation:   1\n",
      "    Reason:                DeploymentReady\n",
      "    Status:                True\n",
      "    Type:                  Deployed\n",
      "  Ready:                   true\n",
      "Events:                    <none>\n"
     ]
    }
   ],
   "source": [
    "! kubectl describe server falcon-7b-instruct"
   ]
  },
  {
   "cell_type": "markdown",
   "id": "d2685abd",
   "metadata": {},
   "source": [
    "By default Substratus creates a K8s Service to expose the Server, however this Service is of type ClusterIP, which means you can not directly access it over the internet. So let's use K8s Port Forwarding to access the server.\n",
    "\n",
    "Run the following command to forward your local 8080 port to the Server port 8080:"
   ]
  },
  {
   "cell_type": "code",
   "execution_count": null,
   "id": "f30146c0",
   "metadata": {},
   "outputs": [],
   "source": [
    "! kubectl port-forward service/falcon-7b-instruct-server 8080:8080"
   ]
  },
  {
   "cell_type": "markdown",
   "id": "14b8b80d",
   "metadata": {},
   "source": [
    "You should now be able to access the web interface of the Server by going to\n",
    "[http://localhost:8080](http://localhost:8080)\n",
    "\n",
    "You have now deployed the falcon-7b-instruct model."
   ]
  },
  {
   "cell_type": "markdown",
   "id": "09330fa5",
   "metadata": {},
   "source": [
    "## Finetuning falcon-7b-instruct\n",
    "The base model is pretty decent but it won't be so helpful on domain\n",
    "specific instructions that it hasn't been trained on.\n",
    "Finetuning with your own dataset can help to make the model work well \n",
    "for specific use cases.\n",
    "\n",
    "In Substratus the Model resource and Dataset resource can be used\n",
    "to fine tune a base model."
   ]
  },
  {
   "cell_type": "markdown",
   "id": "09424360",
   "metadata": {},
   "source": [
    "### Loading a custom dataset\n",
    "For this tutorial, a K8s instruction dataset will be used. The dataset\n",
    "contains prompts and completions. Example entry in the dataset:\n",
    "```\n",
    "prompt: Write YAML that defines a Pod named \\\"dnsutils\\\" in the \\\"default\\\" namespace\n",
    "completion: <K8s valid YAML file that defines K8s resources>\n",
    "```\n",
    "\n",
    "The goal here is to train a model that is able to generate valid K8s YAML files based on the prompt given.\n",
    "\n",
    "The dataset loader used is available here: https://github.com/substratusai/dataset-k8s-instructions\n",
    "\n",
    "Create the Dataset resource to load the dataset into Substratus:"
   ]
  },
  {
   "cell_type": "code",
   "execution_count": null,
   "id": "4544c4b4",
   "metadata": {},
   "outputs": [],
   "source": [
    "! kubectl apply -f https://raw.githubusercontent.com/substratusai/substratus/main/examples/datasets/k8s-instructions.yaml"
   ]
  },
  {
   "cell_type": "markdown",
   "id": "4eaabe91",
   "metadata": {},
   "source": [
    "It takes a few minutes to load the dataset. Verify the Dataset is ready:"
   ]
  },
  {
   "cell_type": "code",
   "execution_count": 16,
   "id": "09e8c2a4",
   "metadata": {},
   "outputs": [
    {
     "name": "stdout",
     "output_type": "stream",
     "text": [
      "Name:         k8s-instructions\n",
      "Namespace:    default\n",
      "Labels:       <none>\n",
      "Annotations:  <none>\n",
      "API Version:  substratus.ai/v1\n",
      "Kind:         Dataset\n",
      "Metadata:\n",
      "  Creation Timestamp:  2023-07-12T05:38:49Z\n",
      "  Generation:          2\n",
      "  Resource Version:    12005235\n",
      "  UID:                 ced22d70-e7a3-4e1c-9d9e-09278c70681e\n",
      "Spec:\n",
      "  Command:\n",
      "    load.sh\n",
      "  Filename:  k8s-instructions.jsonl\n",
      "  Image:\n",
      "    Git:\n",
      "      URL:  https://github.com/substratusai/dataset-k8s-instructions\n",
      "    Name:   us-central1-docker.pkg.dev/my-gcp-project/substratus/dataset-default-k8s-instructions\n",
      "Status:\n",
      "  Conditions:\n",
      "    Last Transition Time:  2023-07-12T05:39:18Z\n",
      "    Message:               Builder Job completed: k8s-instructions-dataset-container-builder\n",
      "    Observed Generation:   2\n",
      "    Reason:                JobComplete\n",
      "    Status:                True\n",
      "    Type:                  Built\n",
      "    Last Transition Time:  2023-07-12T05:40:05Z\n",
      "    Message:               \n",
      "    Observed Generation:   2\n",
      "    Reason:                JobComplete\n",
      "    Status:                True\n",
      "    Type:                  Loaded\n",
      "  Ready:                   true\n",
      "  URL:                     gs://my-gcp-project-substratus-datasets/ced22d70-e7a3-4e1c-9d9e-09278c70681e/data/k8s-instructions.jsonl\n",
      "Events:                    <none>\n"
     ]
    }
   ],
   "source": [
    "! kubectl describe dataset k8s-instructions"
   ]
  },
  {
   "cell_type": "markdown",
   "id": "c6f4eb37",
   "metadata": {},
   "source": [
    "### Creating the fine tuned model\n",
    "Fine tuned model = base model + dataset. Substratus makes this very easy by creating\n",
    "new Model resource where specify the base model and the dataset, resulting in a\n",
    "new fine tuned model.\n",
    "\n",
    "Create the fined model by running:"
   ]
  },
  {
   "cell_type": "code",
   "execution_count": null,
   "id": "f39eac98",
   "metadata": {},
   "outputs": [],
   "source": [
    "! kubectl apply -f https://raw.githubusercontent.com/substratusai/substratus/main/examples/falcon-7b-instruct/finetuned-model.yaml"
   ]
  },
  {
   "cell_type": "markdown",
   "id": "80f4f27b",
   "metadata": {},
   "source": [
    "The following Model resource was used in the above command:\n",
    "```yaml\n",
    "apiVersion: substratus.ai/v1\n",
    "kind: Model\n",
    "metadata:\n",
    "  name: falcon-7b-instruct-k8s\n",
    "spec:\n",
    "  image:\n",
    "    name: substratusai/model-trainer-huggingface\n",
    "  baseModel:\n",
    "    name: falcon-7b-instruct\n",
    "  trainingDataset:\n",
    "    name: k8s-instructions\n",
    "  params:\n",
    "    epochs: 1\n",
    "  resources:\n",
    "    gpu:\n",
    "      count: 4\n",
    "      type: nvidia-l4\n",
    "```\n",
    "\n",
    "Here we can see baseModel referring to the previously loaded model and trainingDataset refers\n",
    "to the dataset that was loaded in prior step. For training you generally need more GPUs, so that's\n",
    "why 4 GPUs are being requested.\n",
    "\n",
    "Another key difference from the Model resource that was used to load the base model is the image that's being used. In this Model the image used is a HuggingFace based trainer image. The image\n",
    "is built and published by Substratus and the source is available here:\n",
    "https://github.com/substratusai/model-trainer-huggingface\n",
    "\n",
    "The training takes about 20 to 30 minutes. You can watch the progress by running:"
   ]
  },
  {
   "cell_type": "code",
   "execution_count": 17,
   "id": "ffabed68",
   "metadata": {},
   "outputs": [
    {
     "name": "stdout",
     "output_type": "stream",
     "text": [
      "[NbConvertApp] content: {'data': {'text/plain': 'Loading checkpoint shards:   0%|          | 0/2 [00:00<?, ?it/s]', 'application/vnd.jupyter.widget-view+json': {'version_major': 2, 'version_minor': 0, 'model_id': 'd32cd19e121147368d18bd6dee667365'}}, 'metadata': {}, 'transient': {}}\n",
      "[NbConvertApp] msg_type: comm_msg\n",
      "[NbConvertApp] content: {'data': {'method': 'update', 'state': {'value': 'Loading checkpoint shards:   0%'}, 'buffer_paths': []}, 'comm_id': '16a9b5f3e1584d6e952a78ab42350951'}\n",
      "[NbConvertApp] msg_type: comm_msg\n",
      "[NbConvertApp] content: {'data': {'method': 'update', 'state': {'value': ' 0/2 [00:00&lt;?, ?it/s]'}, 'buffer_paths': []}, 'comm_id': 'a2513eda3ca14e97844704daa51a3c97'}\n"
     ]
    }
   ],
   "source": [
    "! kubectl logs jobs/falcon-7b-instruct-k8s-modeller | tail -n 5"
   ]
  },
  {
   "cell_type": "markdown",
   "id": "008355c7",
   "metadata": {},
   "source": [
    "Wait until the falcon-7b-instruct-k8s-modeller job has finished. Once finished you can create another Server but this time let's specify our fine tuned model in the server object.\n",
    "\n",
    "Create a Server to serve the falcon-7b-instruct-k8s finetuned model:"
   ]
  },
  {
   "cell_type": "code",
   "execution_count": 19,
   "id": "a766a8c8",
   "metadata": {},
   "outputs": [
    {
     "name": "stdout",
     "output_type": "stream",
     "text": [
      "server.substratus.ai/falcon-7b-instruct-k8s created\n"
     ]
    }
   ],
   "source": [
    "! kubectl apply -f https://raw.githubusercontent.com/substratusai/substratus/main/examples/falcon-7b-instruct/finetuned-server.yaml"
   ]
  },
  {
   "cell_type": "markdown",
   "id": "ad4b8eb1",
   "metadata": {},
   "source": [
    "Verify that the Server is ready by running:"
   ]
  },
  {
   "cell_type": "code",
   "execution_count": 20,
   "id": "5e52bb60",
   "metadata": {},
   "outputs": [
    {
     "name": "stdout",
     "output_type": "stream",
     "text": [
      "Name:         falcon-7b-instruct-k8s\n",
      "Namespace:    default\n",
      "Labels:       <none>\n",
      "Annotations:  <none>\n",
      "API Version:  substratus.ai/v1\n",
      "Kind:         Server\n",
      "Metadata:\n",
      "  Creation Timestamp:  2023-07-15T21:13:17Z\n",
      "  Generation:          1\n",
      "  Resource Version:    14869700\n",
      "  UID:                 53c5e9a6-7535-4051-b3dc-d205f1efe5f0\n",
      "Spec:\n",
      "  Image:\n",
      "    Name:  substratusai/model-server-basaran\n",
      "  Model:\n",
      "    Name:  falcon-7b-instruct-k8s\n",
      "  Resources:\n",
      "    Cpu:   2\n",
      "    Disk:  10\n",
      "    Gpu:\n",
      "      Count:  1\n",
      "      Type:   nvidia-l4\n",
      "    Memory:   10\n",
      "Status:\n",
      "  Conditions:\n",
      "    Last Transition Time:  2023-07-15T21:17:47Z\n",
      "    Message:               \n",
      "    Observed Generation:   1\n",
      "    Reason:                DeploymentReady\n",
      "    Status:                True\n",
      "    Type:                  Deployed\n",
      "  Ready:                   true\n",
      "Events:                    <none>\n"
     ]
    }
   ],
   "source": [
    "! kubectl describe server falcon-7b-instruct-k8s"
   ]
  },
  {
   "cell_type": "markdown",
   "id": "2352bfd1",
   "metadata": {},
   "source": [
    "Port forward your localhost port 8081 to the Server that's serving the fine tuned model. The Server always uses port 8080 and you can choose which local port you want to use.\n",
    "\n",
    "Run the following command (8081 is local and 8080 is remote):"
   ]
  },
  {
   "cell_type": "code",
   "execution_count": null,
   "id": "70f02450",
   "metadata": {},
   "outputs": [],
   "source": [
    "! kubectl port-forward services/falcon-7b-instruct-k8s-server 8081:8080"
   ]
  },
  {
   "cell_type": "markdown",
   "id": "253147b5",
   "metadata": {},
   "source": [
    "You should now be able to access the web interface of the Server by going to\n",
    "[http://localhost:8081](http://localhost:8081)\n",
    "\n",
    "You have now deployed the finetuned falcon-7b-instruct-k8s model that is better at generating K8s YAML manifests."
   ]
  },
  {
   "cell_type": "markdown",
   "id": "c50249f8",
   "metadata": {},
   "source": [
    "Next steps:\n",
    "- Read more about [loading datasets](../walkthrough/loading-datasets.md)\n",
    "- Read more about [finetuning models](../walkthrough/finetuning-models.md)\n",
    "- Read more about [serving models](../walkthrough/serving-models.md)"
   ]
  }
 ],
 "metadata": {
  "kernelspec": {
   "display_name": "Python 3 (ipykernel)",
   "language": "python",
   "name": "python3"
  },
  "language_info": {
   "codemirror_mode": {
    "name": "ipython",
    "version": 3
   },
   "file_extension": ".py",
   "mimetype": "text/x-python",
   "name": "python",
   "nbconvert_exporter": "python",
   "pygments_lexer": "ipython3",
   "version": "3.11.3"
  }
 },
 "nbformat": 4,
 "nbformat_minor": 5
}
