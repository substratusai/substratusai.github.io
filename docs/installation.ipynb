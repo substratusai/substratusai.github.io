{
 "cells": [
  {
   "cell_type": "markdown",
   "id": "fa71c349-6c09-46cb-a3f2-8b0dcb67a0be",
   "metadata": {},
   "source": [
    "---\n",
    "sidebar_position: 4\n",
    "---\n",
    "\n",
    "# Installation\n",
    "\n",
    "<!-- THE MARKDOWN (.md) FILE IS GENERATED FROM THE NOTEBOOK (.ipynb) FILE -->\n",
    "\n",
    "## Basic Installation\n",
    "\n",
    "A basic installer is packaged as a container image and can be run directly. This installation method is only intended to work in a basic cloud project free of any significant constraints (i.e. GCP Organizational Policies, etc). This path has been tested on brand new cloud projects."
   ]
  },
  {
   "cell_type": "code",
   "execution_count": null,
   "id": "eba1f962-b486-485b-abc4-3a1bc7c9dce5",
   "metadata": {},
   "outputs": [],
   "source": [
    "!docker run -it \\\n",
    "  -v $HOME/.kube:/root/.kube \\\n",
    "  -e PROJECT=$(gcloud config get project) \\\n",
    "  -e TOKEN=$(gcloud auth print-access-token) \\\n",
    "  substratusai/installer gcp-up.sh"
   ]
  },
  {
   "cell_type": "markdown",
   "id": "866b8960-afab-4506-9a16-2f0662ea203a",
   "metadata": {},
   "source": [
    "## Advanced Installation\n",
    "\n",
    "Most enterprises will need to modify the base configuration files to comply with constraints specific to their environment. The Terraform and Kubernetes configurations do not attempt to export every option as a variable. In order to keep the configurations simple, most options are set directly in the `.tf` and `.yaml` files.\n",
    "\n",
    "To set advanced installation options, first clone the substratus repo."
   ]
  },
  {
   "cell_type": "code",
   "execution_count": null,
   "id": "7aa46d59-0439-47ff-a104-812607d0b71f",
   "metadata": {},
   "outputs": [],
   "source": [
    "!git clone https://github.com/substratusai/substratus"
   ]
  },
  {
   "cell_type": "code",
   "execution_count": null,
   "id": "fdde4876-4821-4ff8-a74e-6304a23af98f",
   "metadata": {
    "tags": []
   },
   "outputs": [],
   "source": [
    "%cd ./substratus"
   ]
  },
  {
   "cell_type": "markdown",
   "id": "059e54b0-cca6-40d4-987b-318e03ab2ff4",
   "metadata": {},
   "source": [
    "The `install/` directory contains the cluster and infrastructure configuration needed to get Substratus up and running. All configuration is documented in declarative formats (`.yaml`, `.tf`, `Dockerfile`)."
   ]
  },
  {
   "cell_type": "markdown",
   "id": "08ba9cc4-b4c0-42cb-a690-70d4036383e7",
   "metadata": {},
   "source": [
    "```\n",
    "install/\n",
    "  Dockerfile  # Packages all installation dependencies.\n",
    "  scripts/    # Helper scripts for streamlining the install process.\n",
    "  terraform/  # Provisions a cluster and supporting infrastructure (buckets, image registries, etc.).\n",
    "  kubernetes/ # Installs custom resources, controllers, etc. into a running cluster.\n",
    "```"
   ]
  },
  {
   "cell_type": "markdown",
   "id": "d01f040d-6606-4fd0-9ff2-22a162a7831e",
   "metadata": {},
   "source": [
    "Edit the configuration files and build a custom installer image."
   ]
  },
  {
   "cell_type": "code",
   "execution_count": null,
   "id": "db058bfd-34c9-4de7-8b10-633affb6a2e3",
   "metadata": {},
   "outputs": [],
   "source": [
    "!docker build ./install -t substratus-installer"
   ]
  },
  {
   "cell_type": "markdown",
   "id": "5f9410a3-209a-4cdb-9ab7-ded2330a17ba",
   "metadata": {},
   "source": [
    "Run the custom installer image."
   ]
  },
  {
   "cell_type": "code",
   "execution_count": null,
   "id": "c437e17d-46b5-4a8e-a44b-58bb8473cae8",
   "metadata": {},
   "outputs": [],
   "source": [
    "!docker run -it \\\n",
    "  -v $HOME/.kube:/root/.kube \\\n",
    "  -e PROJECT=$(gcloud config get project) \\\n",
    "  -e TOKEN=$(gcloud auth print-access-token) \\\n",
    "  substratus-installer gcp-up.sh"
   ]
  }
 ],
 "metadata": {
  "kernelspec": {
   "display_name": "Python 3 (ipykernel)",
   "language": "python",
   "name": "python3"
  },
  "language_info": {
   "codemirror_mode": {
    "name": "ipython",
    "version": 3
   },
   "file_extension": ".py",
   "mimetype": "text/x-python",
   "name": "python",
   "nbconvert_exporter": "python",
   "pygments_lexer": "ipython3",
   "version": "3.9.15"
  }
 },
 "nbformat": 4,
 "nbformat_minor": 5
}
