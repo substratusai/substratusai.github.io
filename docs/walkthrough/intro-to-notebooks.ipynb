{
 "cells": [
  {
   "cell_type": "markdown",
   "metadata": {},
   "source": [
    "---\n",
    "sidebar_position: 5\n",
    "---\n",
    "\n",
    "# Intro to Notebooks\n",
    "\n",
    "<!-- THE MARKDOWN (.md) FILE IS GENERATED FROM THE NOTEBOOK (.ipynb) FILE -->\n",
    "\n",
    "Substratus notebooks allow you to access high-performance GPUs while developing machine learning code. In this guide you will explore how to launch a containerized notebook from your local machine."
   ]
  },
  {
   "cell_type": "markdown",
   "metadata": {},
   "source": [
    "## Setup\n",
    "\n",
    "Install Substratus kubectl plugins."
   ]
  },
  {
   "cell_type": "code",
   "execution_count": 1,
   "metadata": {},
   "outputs": [
    {
     "name": "stdout",
     "output_type": "stream",
     "text": [
      "+/dev/fd/12:4> version=v0.8.0 \n",
      "+/dev/fd/12:5> os=+/dev/fd/12:5> uname -s\n",
      "+/dev/fd/12:5> os=Darwin \n",
      "+/dev/fd/12:6> arch=+/dev/fd/12:6> uname -m\n",
      "+/dev/fd/12:6> arch=+/dev/fd/12:6> sed s/aarch64/arm64/g\n",
      "+/dev/fd/12:6> arch=+/dev/fd/12:6> sed s/x86_64/amd64/g\n",
      "+/dev/fd/12:6> arch=amd64 \n",
      "+/dev/fd/12:9> release_url=https://github.com/substratusai/substratus/releases/download/v0.8.0/kubectl-plugins-Darwin-amd64.tar.gz \n",
      "+/dev/fd/12:11> wget -qO- https://github.com/substratusai/substratus/releases/download/v0.8.0/kubectl-plugins-Darwin-amd64.tar.gz\n",
      "+/dev/fd/12:11> tar zxv --directory /tmp\n",
      "x LICENSE.md\n",
      "x kubectl-applybuild\n",
      "x kubectl-notebook\n",
      "+/dev/fd/12:12> chmod +x /tmp/kubectl-applybuild\n",
      "+/dev/fd/12:13> chmod +x /tmp/kubectl-notebook\n",
      "+/dev/fd/12:14> mv /tmp/kubectl-applybuild /usr/local/bin/\n",
      "+/dev/fd/12:15> mv /tmp/kubectl-notebook /usr/local/bin/\n"
     ]
    }
   ],
   "source": [
    "!source <(curl -s https://raw.githubusercontent.com/substratusai/substratus/main/install/scripts/install-kubectl-plugins.sh)"
   ]
  },
  {
   "cell_type": "markdown",
   "metadata": {},
   "source": [
    "Clone the example notebook repo."
   ]
  },
  {
   "cell_type": "code",
   "execution_count": 2,
   "metadata": {},
   "outputs": [
    {
     "name": "stdout",
     "output_type": "stream",
     "text": [
      "Cloning into 'example-minimal-notebook'...\n",
      "remote: Enumerating objects: 8, done.\u001b[K\n",
      "remote: Counting objects: 100% (8/8), done.\u001b[K\n",
      "remote: Compressing objects: 100% (5/5), done.\u001b[K\n",
      "remote: Total 8 (delta 0), reused 8 (delta 0), pack-reused 0\u001b[K\n",
      "Receiving objects: 100% (8/8), done.\n",
      "/Users/nick/work/substratusai/substratusai.github.io/docs/walkthrough/example-minimal-notebook\n"
     ]
    }
   ],
   "source": [
    "!git clone https://github.com/substratusai/example-minimal-notebook\n",
    "%cd example-minimal-notebook"
   ]
  },
  {
   "cell_type": "markdown",
   "metadata": {},
   "source": [
    "By convention in Substratus source code is stored in `src/`. A Dockerfile is used to describe the environment the notebook will run in. When launching a notebook, Substratus will look for a `notebook.yaml` file. This file can be used to configure things like the compute resources allocated to the notebook."
   ]
  },
  {
   "cell_type": "code",
   "execution_count": 3,
   "metadata": {
    "tags": [
     "display_output"
    ]
   },
   "outputs": [
    {
     "name": "stdout",
     "output_type": "stream",
     "text": [
      "Dockerfile    README.md     notebook.yaml \u001b[1m\u001b[36msrc\u001b[m\u001b[m\n"
     ]
    }
   ],
   "source": [
    "!ls"
   ]
  },
  {
   "cell_type": "markdown",
   "metadata": {},
   "source": [
    "## Launch a Remote Notebook\n",
    "\n",
    "With the following command, Substratus will upload, build, and serve your notebook. The `-d` flag instructs the command to launch from the current directory. To watch how Substratus remote-syncing works, try making a change to a file in the notebook and saving it."
   ]
  },
  {
   "cell_type": "code",
   "execution_count": 4,
   "metadata": {
    "tags": [
     "remove_cell"
    ]
   },
   "outputs": [
    {
     "data": {
      "text/plain": [
       "'/usr/local/bin:/Users/nick/Library/Python/3.11/bin:/Users/nick/miniconda3/bin:/Users/nick/miniconda3/condabin:/Users/nick/.local/bin:/Users/nick/bin:/Users/nick/.rbenv/shims:/Users/nick/.krew/bin:/Users/nick/Downloads/google-cloud-sdk/bin:/usr/local/opt/openjdk/bin:/usr/local/bin:/System/Cryptexes/App/usr/bin:/usr/bin:/bin:/usr/sbin:/sbin:/usr/local/go/bin:/Applications/quarto/bin:/var/run/com.apple.security.cryptexd/codex.system/bootstrap/usr/local/bin:/var/run/com.apple.security.cryptexd/codex.system/bootstrap/usr/bin:/var/run/com.apple.security.cryptexd/codex.system/bootstrap/usr/appleinternal/bin:/usr/local/go/bin:/Users/nick/go/bin:/usr/local/kubebuilder/bin:/Users/nick/go:/usr/local/kubebuilder/bin:/Applications/Visual Studio Code.app/Contents/Resources/app/bin:/Users/nick/n/bin:/usr/local/opt/fzf/bin:/Users/nick/miniconda3/bin:/Users/nick/miniconda3/condabin:/Users/nick/.local/bin:/Users/nick/bin:/Users/nick/.rbenv/shims:/Users/nick/.krew/bin:/Users/nick/Downloads/google-cloud-sdk/bin:/usr/local/opt/openjdk/bin:/usr/local/bin:/System/Cryptexes/App/usr/bin:/usr/bin:/bin:/usr/sbin:/sbin:/usr/local/go/bin:/Applications/quarto/bin:/var/run/com.apple.security.cryptexd/codex.system/bootstrap/usr/local/bin:/var/run/com.apple.security.cryptexd/codex.system/bootstrap/usr/bin:/var/run/com.apple.security.cryptexd/codex.system/bootstrap/usr/appleinternal/bin:/usr/local/go/bin:/Users/nick/go/bin:/usr/local/kubebuilder/bin:/Users/nick/go:/usr/local/kubebuilder/bin:/Applications/Visual Studio Code.app/Contents/Resources/app/bin:/Users/nick/n/bin:/usr/local/opt/fzf/bin'"
      ]
     },
     "execution_count": 4,
     "metadata": {},
     "output_type": "execute_result"
    }
   ],
   "source": [
    "# NOTE: Make sure your path is set correctly...\n",
    "# If you are using VSCode to run this notebook, you will likely\n",
    "# need to have launched it from your shell (i.e. \"code .\") in order to inherit\n",
    "# your environment variables.\n",
    "%env PATH\n",
    "\n",
    "# NOTE: You can stop the kubectl command below in VSCode by pressing the interrupt button\n",
    "# (square button in the top right of the terminal window)."
   ]
  },
  {
   "cell_type": "code",
   "execution_count": 9,
   "metadata": {
    "tags": []
   },
   "outputs": [
    {
     "name": "stdout",
     "output_type": "stream",
     "text": [
      "\u001b[KTarball prepared. tarball...\u001b[?25h\n",
      "\u001b[KTarball uploaded. tarball...\u001b[?25h\n",
      "\u001b[KNotebook ready. for Notebook to be ready...\u001b[?25h\n",
      "\u001b[KConnection ready.or connection to be ready to serve...\u001b[?25h\n",
      "Opening browser to http://localhost:8888?token=default\n",
      "^C\n",
      "\u001b[KNotebook suspended.notebook...\u001b[?25h\n"
     ]
    }
   ],
   "source": [
    "!kubectl notebook -d ."
   ]
  },
  {
   "cell_type": "markdown",
   "metadata": {},
   "source": [
    "View the synced changes in your local directory."
   ]
  },
  {
   "cell_type": "code",
   "execution_count": 10,
   "metadata": {
    "tags": [
     "display_output"
    ]
   },
   "outputs": [
    {
     "name": "stdout",
     "output_type": "stream",
     "text": [
      " \u001b[31mM\u001b[m src/hello.ipynb\n"
     ]
    }
   ],
   "source": [
    "!git status --short"
   ]
  },
  {
   "cell_type": "markdown",
   "metadata": {},
   "source": [
    "Once you are done, press `Ctrl-C` to terminate the notebook session. This will suspend the remote notebook (you will see the browser session end)."
   ]
  },
  {
   "cell_type": "markdown",
   "metadata": {},
   "source": [
    "## Cleanup\n",
    "\n",
    "Your remote notebook will continue to exist in the cluster in a suspended state (not consuming any compute resources). You can completely remove the Notebook object if you do not intend to relaunch the notebook."
   ]
  },
  {
   "cell_type": "code",
   "execution_count": 11,
   "metadata": {},
   "outputs": [
    {
     "name": "stdout",
     "output_type": "stream",
     "text": [
      "notebook.substratus.ai \"example\" deleted\n"
     ]
    }
   ],
   "source": [
    "!kubectl delete -f ./notebook.yaml"
   ]
  },
  {
   "cell_type": "markdown",
   "metadata": {},
   "source": [
    "\n",
    ":::note\n",
    "\n",
    "Notebooks will eventually support scratch space (see [GitHub issue #66](https://github.com/substratusai/substratus/issues/5)). Deleting the notebook will free the attached disks once this is supported.\n",
    "\n",
    ":::"
   ]
  }
 ],
 "metadata": {
  "kernelspec": {
   "display_name": "Python 3",
   "language": "python",
   "name": "python3"
  },
  "language_info": {
   "codemirror_mode": {
    "name": "ipython",
    "version": 3
   },
   "file_extension": ".py",
   "mimetype": "text/x-python",
   "name": "python",
   "nbconvert_exporter": "python",
   "pygments_lexer": "ipython3",
   "version": "3.11.0"
  }
 },
 "nbformat": 4,
 "nbformat_minor": 2
}
