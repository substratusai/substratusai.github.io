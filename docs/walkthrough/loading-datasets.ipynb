{
 "cells": [
  {
   "cell_type": "markdown",
   "id": "69c21db2-66ac-4415-9560-b09ec04d100a",
   "metadata": {},
   "source": [
    "---\n",
    "sidebar_position: 3\n",
    "---\n",
    "\n",
    "# Loading Datasets\n",
    "\n",
    "<!-- THE MARKDOWN (.md) FILE IS GENERATED FROM THE NOTEBOOK (.ipynb) FILE -->\n",
    "\n",
    "How to import a custom dataset...\n",
    "\n"
   ]
  }
 ],
 "metadata": {
  "kernelspec": {
   "display_name": "Python 3 (ipykernel)",
   "language": "python",
   "name": "python3"
  },
  "language_info": {
   "codemirror_mode": {
    "name": "ipython",
    "version": 3
   },
   "file_extension": ".py",
   "mimetype": "text/x-python",
   "name": "python",
   "nbconvert_exporter": "python",
   "pygments_lexer": "ipython3",
   "version": "3.9.15"
  }
 },
 "nbformat": 4,
 "nbformat_minor": 5
}
