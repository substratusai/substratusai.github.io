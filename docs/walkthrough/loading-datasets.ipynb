{
 "cells": [
  {
   "cell_type": "markdown",
   "id": "69c21db2-66ac-4415-9560-b09ec04d100a",
   "metadata": {},
   "source": [
    "---\n",
    "sidebar_position: 3\n",
    "---\n",
    "\n",
    "# Loading Datasets\n",
    "\n",
    "<!-- THE MARKDOWN (.md) FILE IS GENERATED FROM THE NOTEBOOK (.ipynb) FILE -->\n",
    "\n",
    "Datasets can be used by Model resources to finetune an existing model\n",
    "with your own data. You can load your own datasets by using one of the\n",
    "existing dataset loaders published by Substratus or by creating your\n",
    "own dataset loader container image.\n",
    "\n",
    "## Dataset format\n",
    "\n",
    "Substratus currently expects all datasets to use jsonl file format.\n",
    "Each json line should have 2 attributes: \"prompt\" and \"completion\".\n",
    "This follows the same standard that is used by OpenAI for finetuning.\n",
    "\n",
    "## Using a Dataset loader\n",
    "\n",
    "For this walkthrough, a K8s instruction dataset will be used. The dataset\n",
    "contains prompts and completions. Example entry in the dataset:\n",
    "\n",
    "```\n",
    "prompt: Write YAML that defines a Pod named \\\"dnsutils\\\" in the \\\"default\\\" namespace\n",
    "completion: <K8s valid YAML file that defines K8s resources>\n",
    "```\n",
    "\n",
    "The goal here is to train a model that is able to generate valid K8s YAML files based on the prompt given.\n",
    "\n",
    "The dataset loader used is available here: https://github.com/substratusai/dataset-k8s-instructions\n",
    "\n",
    "Create the Dataset resource to load the dataset into Substratus:\n"
   ]
  },
  {
   "cell_type": "code",
   "execution_count": null,
   "id": "5c7e849f",
   "metadata": {
    "tags": [
     "k apply dataset"
    ],
    "vscode": {
     "languageId": "plaintext"
    }
   },
   "outputs": [],
   "source": [
    "!kubectl apply -f https://raw.githubusercontent.com/substratusai/substratus/main/examples/datasets/k8s-instructions.yaml"
   ]
  },
  {
   "cell_type": "markdown",
   "id": "e0aa182b",
   "metadata": {},
   "source": [
    "Verify the dataset became ready by running:\n"
   ]
  },
  {
   "cell_type": "code",
   "execution_count": null,
   "id": "baa9b13d",
   "metadata": {
    "tags": [],
    "vscode": {
     "languageId": "plaintext"
    }
   },
   "outputs": [],
   "source": [
    "!kubectl describe dataset k8s-instructions"
   ]
  },
  {
   "cell_type": "code",
   "execution_count": null,
   "id": "a8132c75",
   "metadata": {
    "tags": [
     "k get dataset",
     "remove_cell"
    ],
    "vscode": {
     "languageId": "plaintext"
    }
   },
   "outputs": [],
   "source": [
    "!kubectl get dataset k8s-instructions -o=json"
   ]
  },
  {
   "cell_type": "markdown",
   "id": "12076bdc",
   "metadata": {},
   "source": [
    "## Creating your own Dataset loader\n",
    "\n",
    "TODO\n"
   ]
  }
 ],
 "metadata": {
  "kernelspec": {
   "display_name": "Python 3 (ipykernel)",
   "language": "python",
   "name": "python3"
  },
  "language_info": {
   "codemirror_mode": {
    "name": "ipython",
    "version": 3
   },
   "file_extension": ".py",
   "mimetype": "text/x-python",
   "name": "python",
   "nbconvert_exporter": "python",
   "pygments_lexer": "ipython3",
   "version": "3.9.15"
  }
 },
 "nbformat": 4,
 "nbformat_minor": 5
}
